{
 "cells": [
  {
   "cell_type": "markdown",
   "metadata": {},
   "source": [
    "Joi Chu-Ketterer \n",
    "\n",
    "DSC530 - Data Exploration and Analysis\n",
    "\n",
    "Assignment 10.4: Final Project\n",
    "\n",
    "August 6, 2019"
   ]
  },
  {
   "cell_type": "code",
   "execution_count": 1,
   "metadata": {},
   "outputs": [],
   "source": [
    "import pandas as pd\n",
    "import thinkstats2\n",
    "from thinkstats2 import thinkplot\n",
    "import numpy as np\n",
    "from scipy import stats\n",
    "from scipy.stats import chi2_contingency\n",
    "import statsmodels.formula.api as smf"
   ]
  },
  {
   "cell_type": "code",
   "execution_count": 2,
   "metadata": {},
   "outputs": [
    {
     "data": {
      "text/html": [
       "<div>\n",
       "<style scoped>\n",
       "    .dataframe tbody tr th:only-of-type {\n",
       "        vertical-align: middle;\n",
       "    }\n",
       "\n",
       "    .dataframe tbody tr th {\n",
       "        vertical-align: top;\n",
       "    }\n",
       "\n",
       "    .dataframe thead th {\n",
       "        text-align: right;\n",
       "    }\n",
       "</style>\n",
       "<table border=\"1\" class=\"dataframe\">\n",
       "  <thead>\n",
       "    <tr style=\"text-align: right;\">\n",
       "      <th></th>\n",
       "      <th>school</th>\n",
       "      <th>sex</th>\n",
       "      <th>age</th>\n",
       "      <th>address</th>\n",
       "      <th>famsize</th>\n",
       "      <th>Pstatus</th>\n",
       "      <th>Medu</th>\n",
       "      <th>Fedu</th>\n",
       "      <th>Mjob</th>\n",
       "      <th>Fjob</th>\n",
       "      <th>...</th>\n",
       "      <th>famrel</th>\n",
       "      <th>freetime</th>\n",
       "      <th>goout</th>\n",
       "      <th>Dalc</th>\n",
       "      <th>Walc</th>\n",
       "      <th>health</th>\n",
       "      <th>absences</th>\n",
       "      <th>G1</th>\n",
       "      <th>G2</th>\n",
       "      <th>G3</th>\n",
       "    </tr>\n",
       "  </thead>\n",
       "  <tbody>\n",
       "    <tr>\n",
       "      <th>0</th>\n",
       "      <td>GP</td>\n",
       "      <td>F</td>\n",
       "      <td>18</td>\n",
       "      <td>U</td>\n",
       "      <td>GT3</td>\n",
       "      <td>A</td>\n",
       "      <td>4</td>\n",
       "      <td>4</td>\n",
       "      <td>at_home</td>\n",
       "      <td>teacher</td>\n",
       "      <td>...</td>\n",
       "      <td>4</td>\n",
       "      <td>3</td>\n",
       "      <td>4</td>\n",
       "      <td>1</td>\n",
       "      <td>1</td>\n",
       "      <td>3</td>\n",
       "      <td>6</td>\n",
       "      <td>5</td>\n",
       "      <td>6</td>\n",
       "      <td>6</td>\n",
       "    </tr>\n",
       "    <tr>\n",
       "      <th>1</th>\n",
       "      <td>GP</td>\n",
       "      <td>F</td>\n",
       "      <td>17</td>\n",
       "      <td>U</td>\n",
       "      <td>GT3</td>\n",
       "      <td>T</td>\n",
       "      <td>1</td>\n",
       "      <td>1</td>\n",
       "      <td>at_home</td>\n",
       "      <td>other</td>\n",
       "      <td>...</td>\n",
       "      <td>5</td>\n",
       "      <td>3</td>\n",
       "      <td>3</td>\n",
       "      <td>1</td>\n",
       "      <td>1</td>\n",
       "      <td>3</td>\n",
       "      <td>4</td>\n",
       "      <td>5</td>\n",
       "      <td>5</td>\n",
       "      <td>6</td>\n",
       "    </tr>\n",
       "    <tr>\n",
       "      <th>2</th>\n",
       "      <td>GP</td>\n",
       "      <td>F</td>\n",
       "      <td>15</td>\n",
       "      <td>U</td>\n",
       "      <td>LE3</td>\n",
       "      <td>T</td>\n",
       "      <td>1</td>\n",
       "      <td>1</td>\n",
       "      <td>at_home</td>\n",
       "      <td>other</td>\n",
       "      <td>...</td>\n",
       "      <td>4</td>\n",
       "      <td>3</td>\n",
       "      <td>2</td>\n",
       "      <td>2</td>\n",
       "      <td>3</td>\n",
       "      <td>3</td>\n",
       "      <td>10</td>\n",
       "      <td>7</td>\n",
       "      <td>8</td>\n",
       "      <td>10</td>\n",
       "    </tr>\n",
       "    <tr>\n",
       "      <th>3</th>\n",
       "      <td>GP</td>\n",
       "      <td>F</td>\n",
       "      <td>15</td>\n",
       "      <td>U</td>\n",
       "      <td>GT3</td>\n",
       "      <td>T</td>\n",
       "      <td>4</td>\n",
       "      <td>2</td>\n",
       "      <td>health</td>\n",
       "      <td>services</td>\n",
       "      <td>...</td>\n",
       "      <td>3</td>\n",
       "      <td>2</td>\n",
       "      <td>2</td>\n",
       "      <td>1</td>\n",
       "      <td>1</td>\n",
       "      <td>5</td>\n",
       "      <td>2</td>\n",
       "      <td>15</td>\n",
       "      <td>14</td>\n",
       "      <td>15</td>\n",
       "    </tr>\n",
       "    <tr>\n",
       "      <th>4</th>\n",
       "      <td>GP</td>\n",
       "      <td>F</td>\n",
       "      <td>16</td>\n",
       "      <td>U</td>\n",
       "      <td>GT3</td>\n",
       "      <td>T</td>\n",
       "      <td>3</td>\n",
       "      <td>3</td>\n",
       "      <td>other</td>\n",
       "      <td>other</td>\n",
       "      <td>...</td>\n",
       "      <td>4</td>\n",
       "      <td>3</td>\n",
       "      <td>2</td>\n",
       "      <td>1</td>\n",
       "      <td>2</td>\n",
       "      <td>5</td>\n",
       "      <td>4</td>\n",
       "      <td>6</td>\n",
       "      <td>10</td>\n",
       "      <td>10</td>\n",
       "    </tr>\n",
       "  </tbody>\n",
       "</table>\n",
       "<p>5 rows × 33 columns</p>\n",
       "</div>"
      ],
      "text/plain": [
       "  school sex  age address famsize Pstatus  Medu  Fedu     Mjob      Fjob  ...  \\\n",
       "0     GP   F   18       U     GT3       A     4     4  at_home   teacher  ...   \n",
       "1     GP   F   17       U     GT3       T     1     1  at_home     other  ...   \n",
       "2     GP   F   15       U     LE3       T     1     1  at_home     other  ...   \n",
       "3     GP   F   15       U     GT3       T     4     2   health  services  ...   \n",
       "4     GP   F   16       U     GT3       T     3     3    other     other  ...   \n",
       "\n",
       "  famrel freetime  goout  Dalc  Walc health absences  G1  G2  G3  \n",
       "0      4        3      4     1     1      3        6   5   6   6  \n",
       "1      5        3      3     1     1      3        4   5   5   6  \n",
       "2      4        3      2     2     3      3       10   7   8  10  \n",
       "3      3        2      2     1     1      5        2  15  14  15  \n",
       "4      4        3      2     1     2      5        4   6  10  10  \n",
       "\n",
       "[5 rows x 33 columns]"
      ]
     },
     "execution_count": 2,
     "metadata": {},
     "output_type": "execute_result"
    }
   ],
   "source": [
    "student = pd.read_csv(\"students.csv\")\n",
    "student.head()"
   ]
  },
  {
   "cell_type": "markdown",
   "metadata": {},
   "source": [
    "For this assignment, I will be using the \"Student Alcohol Consumption\" dataset available from Kaggle (https://www.kaggle.com/uciml/student-alcohol-consumption), and will focus on the following variables:\n",
    "\n",
    "    - Medu: is the highest level of education the student's mother has achieved (numeric: 0 - none, 1 - primary education (4th grade), 2 – 5th to 9th grade, 3 – secondary education or 4 – higher education)\n",
    "    - Fedu: is the highest level of education the student's father has achieved (numeric: 0 - none, 1 - primary education (4th grade), 2 – 5th to 9th grade, 3 – secondary education or 4 – higher education)\n",
    "    - Pstatus: is the parent's cohabitation status (binary: 'T' - living together or 'A' - apart)\n",
    "    - studytime: is the amount of time the student spends on studying per week (numeric: 1 - <2 hours, 2 - 2 to 5 hours, 3 - 5 to 10 hours, or 4 - >10 hours)\n",
    "    - romantic: is the relationship status of the student (binary: yes or no)\n",
    "    - Dalc: is the student's workday alcohol consumption (numeric: from 1 - very low to 5 - very high)\n",
    "    - G3: is the student's final grade for the math class\n",
    "    \n",
    "I hope to gain insight into the factors that lead to a student's success or failure in the course. I predict that a lot of these variables impact each other and their combined effects impacts the student's final grade, but if I were to guess the biggest contributor, I would predict it would either be their romantic status or their workday alcohol consumption. Specifically, that each of these variables would decrease the student's performance in class. \n",
    "\n",
    "To begin, I will plot histograms for all of the variables I will analyze."
   ]
  },
  {
   "cell_type": "code",
   "execution_count": 3,
   "metadata": {},
   "outputs": [
    {
     "data": {
      "image/png": "[encoded data removed]",
      "text/plain": [
       "<Figure size 432x288 with 1 Axes>"
      ]
     },
     "metadata": {
      "needs_background": "light"
     },
     "output_type": "display_data"
    },
    {
     "data": {
      "text/plain": [
       "<Figure size 576x432 with 0 Axes>"
      ]
     },
     "metadata": {},
     "output_type": "display_data"
    }
   ],
   "source": [
    "hist_medu = thinkstats2.Hist(student.Medu, label = \"Mother's Education\")\n",
    "thinkplot.Hist(hist_medu)\n",
    "thinkplot.Show(xlabel = \"Mother's Level of Education\", ylabel = 'Frequency')"
   ]
  },
  {
   "cell_type": "code",
   "execution_count": 161,
   "metadata": {},
   "outputs": [
    {
     "data": {
      "image/png": "[encoded data removed]",
      "text/plain": [
       "<Figure size 432x288 with 1 Axes>"
      ]
     },
     "metadata": {
      "needs_background": "light"
     },
     "output_type": "display_data"
    },
    {
     "data": {
      "text/plain": [
       "<Figure size 576x432 with 0 Axes>"
      ]
     },
     "metadata": {},
     "output_type": "display_data"
    }
   ],
   "source": [
    "hist_fedu = thinkstats2.Hist(student.Fedu, label = \"Father's Education\")\n",
    "thinkplot.Hist(hist_fedu)\n",
    "thinkplot.Show(xlabel = \"Father's Level of Education\", ylabel = 'Frequency')"
   ]
  },
  {
   "cell_type": "code",
   "execution_count": 162,
   "metadata": {},
   "outputs": [
    {
     "data": {
      "image/png": "[encoded data removed]",
      "text/plain": [
       "<Figure size 432x288 with 1 Axes>"
      ]
     },
     "metadata": {
      "needs_background": "light"
     },
     "output_type": "display_data"
    },
    {
     "data": {
      "text/plain": [
       "<Figure size 576x432 with 0 Axes>"
      ]
     },
     "metadata": {},
     "output_type": "display_data"
    }
   ],
   "source": [
    "hist_pstat = thinkstats2.Hist(student.Pstatus, label = \"Parent's Cohabitation Status\")\n",
    "thinkplot.Hist(hist_pstat)\n",
    "thinkplot.Show(xlabel = \"Parent's Cohabitation Status\" , ylabel = 'Frequency')\n"
   ]
  },
  {
   "cell_type": "code",
   "execution_count": 4,
   "metadata": {},
   "outputs": [
    {
     "data": {
      "image/png": "[encoded data removed]",
      "text/plain": [
       "<Figure size 432x288 with 1 Axes>"
      ]
     },
     "metadata": {
      "needs_background": "light"
     },
     "output_type": "display_data"
    },
    {
     "data": {
      "text/plain": [
       "<Figure size 576x432 with 0 Axes>"
      ]
     },
     "metadata": {},
     "output_type": "display_data"
    }
   ],
   "source": [
    "hist_st = thinkstats2.Hist(student.studytime, label = \"Time\")\n",
    "thinkplot.Hist(hist_st)\n",
    "thinkplot.Show(xlabel = 'Intervals of Time Spent Studying/Week (Hours)', ylabel = 'Frequency')"
   ]
  },
  {
   "cell_type": "code",
   "execution_count": 164,
   "metadata": {},
   "outputs": [
    {
     "data": {
      "image/png": "[encoded data removed]",
      "text/plain": [
       "<Figure size 432x288 with 1 Axes>"
      ]
     },
     "metadata": {
      "needs_background": "light"
     },
     "output_type": "display_data"
    },
    {
     "data": {
      "text/plain": [
       "<Figure size 576x432 with 0 Axes>"
      ]
     },
     "metadata": {},
     "output_type": "display_data"
    }
   ],
   "source": [
    "hist_rom = thinkstats2.Hist(student.romantic, label = \"Relationship Status\")\n",
    "thinkplot.Hist(hist_rom)\n",
    "thinkplot.Show(xlabel = \"Student's Relationship Status\", ylabel = 'Frequency')"
   ]
  },
  {
   "cell_type": "code",
   "execution_count": 165,
   "metadata": {},
   "outputs": [
    {
     "data": {
      "image/png": "[encoded data removed]",
      "text/plain": [
       "<Figure size 432x288 with 1 Axes>"
      ]
     },
     "metadata": {
      "needs_background": "light"
     },
     "output_type": "display_data"
    },
    {
     "data": {
      "text/plain": [
       "<Figure size 576x432 with 0 Axes>"
      ]
     },
     "metadata": {},
     "output_type": "display_data"
    }
   ],
   "source": [
    "hist_dalc = thinkstats2.Hist(student.Dalc, label = \"Alcohol Consumption\")\n",
    "thinkplot.Hist(hist_dalc)\n",
    "thinkplot.Show(xlabel = 'Amount of Alcohol Consumed on Weekdays', ylabel = 'Frequency')"
   ]
  },
  {
   "cell_type": "code",
   "execution_count": 167,
   "metadata": {},
   "outputs": [
    {
     "data": {
      "image/png": "[encoded data removed]",
      "text/plain": [
       "<Figure size 432x288 with 1 Axes>"
      ]
     },
     "metadata": {
      "needs_background": "light"
     },
     "output_type": "display_data"
    },
    {
     "data": {
      "text/plain": [
       "<Figure size 576x432 with 0 Axes>"
      ]
     },
     "metadata": {},
     "output_type": "display_data"
    }
   ],
   "source": [
    "hist_grade = thinkstats2.Hist(student.G3, label = \"Grade\")\n",
    "thinkplot.Hist(hist_grade)\n",
    "thinkplot.Show(xlabel = 'Final Course Performance', ylabel = 'Frequency')"
   ]
  },
  {
   "cell_type": "markdown",
   "metadata": {},
   "source": [
    "Now that we have the histograms for each variable, we can identify outliers. Since we know what data is logical for each variable, we can see if there is any data that falls outside of those parameters that aren't being shown in our graphs. "
   ]
  },
  {
   "cell_type": "code",
   "execution_count": 330,
   "metadata": {},
   "outputs": [
    {
     "name": "stdout",
     "output_type": "stream",
     "text": [
      "medu\n",
      "0 3\n",
      "1 59\n",
      "2 103\n",
      "3 99\n",
      "4 131\n",
      "\n",
      " fedu\n",
      "0 2\n",
      "1 82\n",
      "2 115\n",
      "3 100\n",
      "4 96\n",
      "\n",
      " pstat\n",
      "A 41\n",
      "T 354\n",
      "\n",
      " st\n",
      "1 105\n",
      "2 198\n",
      "3 65\n",
      "4 27\n",
      "\n",
      " rom\n",
      "no 263\n",
      "yes 132\n",
      "\n",
      " dalc\n",
      "1 276\n",
      "2 75\n",
      "3 26\n",
      "4 9\n",
      "5 9\n",
      "\n",
      " walc\n",
      "1 151\n",
      "2 85\n",
      "3 80\n",
      "4 51\n",
      "5 28\n",
      "\n",
      " grade\n",
      "0 38\n",
      "4 1\n",
      "5 7\n",
      "6 15\n",
      "7 9\n"
     ]
    }
   ],
   "source": [
    "print('medu')\n",
    "for edu, freq in hist_medu.Smallest(10):\n",
    "    print(edu, freq)\n",
    "\n",
    "print('\\n fedu')\n",
    "for edu, freq in hist_fedu.Smallest(5):\n",
    "    print(edu, freq)\n",
    "\n",
    "print('\\n pstat')\n",
    "for rel, freq in hist_pstat.Smallest(5):\n",
    "    print(rel, freq)\n",
    "\n",
    "print('\\n st')\n",
    "for time, freq in hist_st.Smallest(5):\n",
    "    print(time, freq)\n",
    "    \n",
    "print('\\n rom')\n",
    "for rel, freq in hist_rom.Smallest(5):\n",
    "    print(rel, freq)\n",
    "    \n",
    "print('\\n dalc')\n",
    "for amt, freq in hist_dalc.Smallest(5):\n",
    "    print(amt, freq)\n",
    "    \n",
    "print('\\n walc')\n",
    "for amt, freq in hist_walc.Smallest(5):\n",
    "    print(amt, freq)\n",
    "    \n",
    "print('\\n grade')\n",
    "for score, freq in hist_grade.Smallest(5):\n",
    "    print(score, freq)"
   ]
  },
  {
   "cell_type": "markdown",
   "metadata": {},
   "source": [
    "None of the values look out of place, and so it's save to say there are no outliers in this dataset. Surprising, but convenient. If there were data that were out of the score rank of any of the variables, since we know there is a defined threshold, the best course of action for this data set would be to remove them. Some other statistics I can look into include the mean (central tendancy), variance (spread), and standard deviation. For this part of the analysis, I will ignore the binary variables. "
   ]
  },
  {
   "cell_type": "code",
   "execution_count": 333,
   "metadata": {},
   "outputs": [
    {
     "name": "stdout",
     "output_type": "stream",
     "text": [
      "variable: mean variance standard deviation\n",
      "study time: 2.0354430379746837 0.704324359056738 0.839240346418556\n",
      "week drinking: 1.481012658227848 0.7934202917175335 0.8907414280909659\n",
      "weekend drinking: 2.2911392405063293 1.6586776328471353 1.2878965924510926\n",
      "final grade: 10.415189873417722 20.989616397866737 4.5814426109978434\n"
     ]
    }
   ],
   "source": [
    "st_mean = student.studytime.mean()\n",
    "st_var = student.studytime.var()\n",
    "st_std = student.studytime.std()\n",
    "\n",
    "dalc_mean = student.Dalc.mean()\n",
    "dalc_var = student.Dalc.var()\n",
    "dalc_std = student.Dalc.std()\n",
    "\n",
    "walc_mean = student.Walc.mean()\n",
    "walc_var = student.Walc.var()\n",
    "walc_std = student.Walc.std()\n",
    "\n",
    "grade_mean = student.G3.mean()\n",
    "grade_var = student.G3.var()\n",
    "grade_std = student.G3.std()\n",
    "\n",
    "print('variable:','mean', 'variance', 'standard deviation')\n",
    "print('study time:', st_mean, st_var, st_std)\n",
    "print('week drinking:', dalc_mean, dalc_var, dalc_std)\n",
    "print('weekend drinking:', walc_mean, walc_var, walc_std)\n",
    "print('final grade:', grade_mean, grade_var, grade_std)"
   ]
  },
  {
   "cell_type": "markdown",
   "metadata": {},
   "source": [
    "Another way to look at the distribution of our variables, other than the histogram, is by using probability mass functions (PMF). I will explore the effects of alcohol consumption on a student's grades. Specifically, I will compare the effects of a student having consumed very little alcohol during the week, compared to a student having moderate to very high amounts of alcohol. "
   ]
  },
  {
   "cell_type": "code",
   "execution_count": 170,
   "metadata": {},
   "outputs": [],
   "source": [
    "def select_columns(data_frame, column_names):\n",
    "    new_frame = data_frame.loc[:, column_names]\n",
    "    return new_frame"
   ]
  },
  {
   "cell_type": "code",
   "execution_count": 171,
   "metadata": {},
   "outputs": [],
   "source": [
    "low = student[student.Dalc == 1]\n",
    "other = student[student.Dalc != 1]\n",
    "\n",
    "low_pmf = thinkstats2.Pmf((low.G3), label='low')\n",
    "other_pmf = thinkstats2.Pmf((other.G3), label='others')"
   ]
  },
  {
   "cell_type": "code",
   "execution_count": 172,
   "metadata": {},
   "outputs": [
    {
     "data": {
      "image/png": "[encoded data removed]",
      "text/plain": [
       "<Figure size 864x432 with 1 Axes>"
      ]
     },
     "metadata": {
      "needs_background": "light"
     },
     "output_type": "display_data"
    }
   ],
   "source": [
    "width=0.45\n",
    "axis = [0, 20, 0, .2]\n",
    "thinkplot.PrePlot(2, cols=2)\n",
    "thinkplot.Hist(low_pmf, align='right', width=width)\n",
    "thinkplot.Hist(other_pmf, align='left', width=width)\n",
    "thinkplot.Config(xlabel='Course Performance (on 20 point scale)', ylabel='PMF', axis=axis)\n"
   ]
  },
  {
   "cell_type": "markdown",
   "metadata": {},
   "source": [
    "Looking at the two PMFs, ignoring the students who failed the course, we can see that students who consume less alcohol during the week are more likely to achieve higher course performance over those to imbibe more. Now that we have explored alcohol consumption, let's explore the impact of a student's study time. I will compare the impact between students who study less than two hours a week compared to those who study two or more (upwards of ten or more hours). "
   ]
  },
  {
   "cell_type": "code",
   "execution_count": 173,
   "metadata": {},
   "outputs": [],
   "source": [
    "low_st = student[student.studytime == 1]\n",
    "other_st = student[student.studytime != 1]\n",
    "\n",
    "low_st_cdf = thinkstats2.Cdf((low_st.G3), label='low')\n",
    "other_st_cdf = thinkstats2.Cdf((other_st.G3), label='others')"
   ]
  },
  {
   "cell_type": "code",
   "execution_count": 174,
   "metadata": {},
   "outputs": [
    {
     "data": {
      "image/png": "[encoded data removed]",
      "text/plain": [
       "<Figure size 432x288 with 1 Axes>"
      ]
     },
     "metadata": {
      "needs_background": "light"
     },
     "output_type": "display_data"
    }
   ],
   "source": [
    "thinkplot.PrePlot(2)\n",
    "thinkplot.cdfs([low_st_cdf, other_st_cdf])\n",
    "thinkplot.Config(xlabel='Course Performance (on 20 point scale)', ylabel='CDF')"
   ]
  },
  {
   "cell_type": "markdown",
   "metadata": {},
   "source": [
    "The CDFs make logical sense to me, where we are seeing that for the most part, students who study more than two hours per week achieve higher course performace. At this point, we know that both alcohol consumption and study time do have an impact on a student's performance in school. \n",
    "\n",
    "So far we have used empirical distributions to assess our data, so moving forward we can choose an analytical distribution. A few we can choose from include:\n",
    "    - Exponential Distribution\n",
    "    - Normal Distribution\n",
    "    - Lognormal Distribution\n",
    "    - Pareto Distribution \n",
    "    \n",
    "For this exercise, I will graph the distribution of a student's course performance. Given the nature and distribution of this variable, I predict a normal distribution is better suited for this data. I will start to estimating the parameters of a normal distribution. "
   ]
  },
  {
   "cell_type": "code",
   "execution_count": 211,
   "metadata": {},
   "outputs": [],
   "source": [
    "def MakeNormModel(data):\n",
    "    \n",
    "    cdf = thinkstats2.Cdf(data, label = \"Course Performance\")\n",
    "\n",
    "    mean, var = thinkstats2.TrimmedMeanVar(data)\n",
    "    std = np.sqrt(var)\n",
    "\n",
    "    xmin = mean - 5 * std\n",
    "    xmax = mean + 5 * std\n",
    "\n",
    "    xs, ps = thinkstats2.RenderNormalCdf(mean, std, xmin, xmax)\n",
    "\n",
    "    thinkplot.Plot(xs, ps, label='model', linewidth=4, color='0.8')\n",
    "    thinkplot.Cdf(cdf)"
   ]
  },
  {
   "cell_type": "code",
   "execution_count": 239,
   "metadata": {},
   "outputs": [
    {
     "data": {
      "image/png": "[encoded data removed]",
      "text/plain": [
       "<Figure size 432x288 with 1 Axes>"
      ]
     },
     "metadata": {
      "needs_background": "light"
     },
     "output_type": "display_data"
    }
   ],
   "source": [
    "MakeNormModel(student.G3)\n",
    "thinkplot.Config(xlabel='Course Performance (on 20 point scale)',\n",
    "                 ylabel='CDF', loc='upper right')"
   ]
  },
  {
   "cell_type": "markdown",
   "metadata": {},
   "source": [
    "We can see here, that the normal distribution isn't the best model for the data. It's certainly better than a Pareto distribution would be though, which I can demonstrate. Parteo distributions are best for modeling things that are not evenly distributed (like the allocation of wealth)."
   ]
  },
  {
   "cell_type": "code",
   "execution_count": 234,
   "metadata": {},
   "outputs": [
    {
     "data": {
      "image/png": "[encoded data removed]",
      "text/plain": [
       "<Figure size 432x288 with 1 Axes>"
      ]
     },
     "metadata": {
      "needs_background": "light"
     },
     "output_type": "display_data"
    }
   ],
   "source": [
    "cdf = thinkstats2.Cdf(student.G3, label='Course Performance')\n",
    "\n",
    "xs, ys = thinkstats2.RenderParetoCdf(xmin=1, alpha=0.1, low=0, high=100)\n",
    "thinkplot.Plot(xs, ys, label='model', color='0.8')\n",
    "\n",
    "thinkplot.Cdf(cdf) \n",
    "thinkplot.Config(xlabel='Course Performance',\n",
    "                 ylabel='CDF',\n",
    "                 loc='upper right')"
   ]
  },
  {
   "cell_type": "markdown",
   "metadata": {},
   "source": [
    "To explore the impact of a student's mother and fathers' education, I will initially use scatterplots. "
   ]
  },
  {
   "cell_type": "code",
   "execution_count": 249,
   "metadata": {},
   "outputs": [
    {
     "data": {
      "image/png": "[encoded data removed]",
      "text/plain": [
       "<Figure size 432x288 with 1 Axes>"
      ]
     },
     "metadata": {
      "needs_background": "light"
     },
     "output_type": "display_data"
    }
   ],
   "source": [
    "thinkplot.Scatter(student.Medu, student.G3)\n",
    "thinkplot.Config(xlabel=\"Mother's Education\",\n",
    "                 ylabel='Student Performance (on 20 point scale)',\n",
    "                 legend=False)"
   ]
  },
  {
   "cell_type": "code",
   "execution_count": 250,
   "metadata": {},
   "outputs": [
    {
     "data": {
      "image/png": "[encoded data removed]",
      "text/plain": [
       "<Figure size 432x288 with 1 Axes>"
      ]
     },
     "metadata": {
      "needs_background": "light"
     },
     "output_type": "display_data"
    }
   ],
   "source": [
    "thinkplot.Scatter(student.Fedu, student.G3)\n",
    "thinkplot.Config(xlabel=\"Father's Education\",\n",
    "                 ylabel='Student Performance (on 20 point scale)',\n",
    "                 legend=False)"
   ]
  },
  {
   "cell_type": "markdown",
   "metadata": {},
   "source": [
    "Since both mother's education and father's education have distinct values, we don't see a morphed set of data points, which we are used to seeing in scatterplots. Regardless, we can still get a sense of the relationship between a parent's education and how well their student performs in school. \n",
    "\n",
    "We can recognize that the higher the Mother's education, the more likely the student will achieve higher performance in school, whereas the Father's education doesn't seem to matter as much. To see these effects in numerical terms, we can calculate the correlation between the various variables. \n",
    "\n",
    "Covariance is not a very useful statistic here since it really just tells us how much the two variables vary together. While theoretically useful, the statistic itself is difficult to interpret. Correlation, on the otherhand, standardizes both variables so to calculate standard scores. For this reason, it is always between -1 and +1, making it much easier to comprehend. \n",
    "\n",
    "The two most common correlations are Pearson and Spearman. Pearson's correlation is good to use when the two variables are linear and roughly normally distributed. From the above scatterplots and the initial histograms I created, it is clear that parent's education and student's performance are not linearly related. In this case, the Spearman correlation would be better suited for the data, as it mitigates the effect of outliers and skewed distributions. \n",
    "\n",
    "When used on non-linear data, the Pearson's correlation can often downplay the relationship between two variables. To showcase this, I will calculate both the Pearson and Spearman correlations. "
   ]
  },
  {
   "cell_type": "code",
   "execution_count": 256,
   "metadata": {},
   "outputs": [
    {
     "name": "stdout",
     "output_type": "stream",
     "text": [
      "Mother's education Pearson correlation, Father's education Pearson correlation\n"
     ]
    },
    {
     "data": {
      "text/plain": [
       "(0.21714749613860593, 0.15245693890425865)"
      ]
     },
     "execution_count": 256,
     "metadata": {},
     "output_type": "execute_result"
    }
   ],
   "source": [
    "def Corr(xs, ys):\n",
    "    xs = np.asarray(xs)\n",
    "    ys = np.asarray(ys)\n",
    "\n",
    "    meanx, varx = thinkstats2.MeanVar(xs)\n",
    "    meany, vary = thinkstats2.MeanVar(ys)\n",
    "\n",
    "    corr = Cov(xs, ys, meanx, meany) / np.sqrt(varx * vary)\n",
    "    return corr\n",
    "\n",
    "print(\"Mother's education Pearson correlation, Father's education Pearson correlation\")\n",
    "Corr(student.Medu, student.G3), Corr(student.Fedu, student.G3)  "
   ]
  },
  {
   "cell_type": "code",
   "execution_count": 257,
   "metadata": {},
   "outputs": [
    {
     "name": "stdout",
     "output_type": "stream",
     "text": [
      "Mother's education Spearman correlation, Father's education Spearman correlation\n"
     ]
    },
    {
     "data": {
      "text/plain": [
       "(0.2250358528745645, 0.17004900082627797)"
      ]
     },
     "execution_count": 257,
     "metadata": {},
     "output_type": "execute_result"
    }
   ],
   "source": [
    "def SpearmanCorr(xs, ys):\n",
    "    xranks = pd.Series(xs).rank()\n",
    "    yranks = pd.Series(ys).rank()\n",
    "    return Corr(xranks, yranks)\n",
    "\n",
    "print(\"Mother's education Spearman correlation, Father's education Spearman correlation\")\n",
    "SpearmanCorr(student.Medu, student.G3), SpearmanCorr(student.Fedu, student.G3)"
   ]
  },
  {
   "cell_type": "markdown",
   "metadata": {},
   "source": [
    "Here, we see an increase from Pearson correlation to Spearman correlation for Mother's education of roughly 0.007, and for Father's education an increase of roughly 0.018. In both cases, we see that the Spearman correlation is in fact more accurate than the Pearson, but with such low correlation values it also confirms that the level of education a student's parents achieved has very little impact on their school performance. \n",
    "\n",
    "Since we haven't explored the impacts of the parent's cohabitation status and a student's relationship status yet, I will go ahead and calculate the Spearman's correlation for those variables. Additionally, earlier I saw a positive relationship between student's performance and study time and a negative relationship with alcohol consumption, so I will confirm that by calculating their correlations as well. "
   ]
  },
  {
   "cell_type": "code",
   "execution_count": 294,
   "metadata": {},
   "outputs": [
    {
     "name": "stdout",
     "output_type": "stream",
     "text": [
      "Spearman correlation for student performance and study time: 0.10516968678133246\n",
      "Spearman correlation for student performance and alcohol consumption -0.12094448004589972\n"
     ]
    }
   ],
   "source": [
    "print(\"Spearman correlation for student performance and study time:\", SpearmanCorr(student.studytime, student.G3))\n",
    "print(\"Spearman correlation for student performance and alcohol consumption\", SpearmanCorr(student.Dalc, student.G3))\n"
   ]
  },
  {
   "cell_type": "markdown",
   "metadata": {},
   "source": [
    "At this time, despite the odds, it seems that a mother's education has the greatest impact on a student's performance. Followed by their father's education, and then their alcohol consumption. While we have some data to support this, we can do into more depth and test the hypothesis. \n",
    "\n",
    "I, personally, seem dubious that a parent's education level would have a bigger impact on a student's school performance over the amount of time they allocate to studying, so I will conduct a hypothesis test that specifically looks at testing a correlation. This will help us determine if the correlation calculated was an effect due to chance. \n",
    "\n",
    "In this case, the null hypothesis is that there is no correlation between a mother's education (or father's) and how their child performs in school. "
   ]
  },
  {
   "cell_type": "code",
   "execution_count": 275,
   "metadata": {},
   "outputs": [
    {
     "data": {
      "text/plain": [
       "(SpearmanrResult(correlation=0.2250358528745645, pvalue=6.290448010609436e-06),\n",
       " SpearmanrResult(correlation=0.17004900082627797, pvalue=0.0006895636032614371))"
      ]
     },
     "execution_count": 275,
     "metadata": {},
     "output_type": "execute_result"
    }
   ],
   "source": [
    "pval_medu = stats.spearmanr(student.Medu, student.G3)\n",
    "pval_fedu = stats.spearmanr(student.Fedu, student.G3)\n",
    "pval_medu, pval_fedu"
   ]
  },
  {
   "cell_type": "markdown",
   "metadata": {},
   "source": [
    "Here, we see that the p-value for both the correlation between a child's school performance and their parent's education is less thatn 0.05, indicating significance. In this case, we can reject the null hypothesis, and that the variables are not correlated by chance. \n",
    "\n",
    "To further explore the relationship between a student's relationship status, I will run a chi-square test. I'm choosing this since the romantic variable is categorical. While a student's performance is not, I can simulate it to be, where students who perform below 80% scored 'poorly', and those who performed after 80% scored 'well'. \n",
    "\n",
    "Here, our null hypothesis will be that a student's performance and their relationship status are unrelated. "
   ]
  },
  {
   "cell_type": "code",
   "execution_count": 8,
   "metadata": {},
   "outputs": [
    {
     "name": "stdout",
     "output_type": "stream",
     "text": [
      "p-value for student performance and romantic relationship status: (1.8695690479001439, 0.17152444514500897)\n",
      "p-value for student performance and parential cohabitation status: (0.5434515812319138, 0.46100578894961775)\n"
     ]
    }
   ],
   "source": [
    "perf_good = student.G3 >= (20*.8)\n",
    "perf_bad = student.G3 < (20*0.8)\n",
    "\n",
    "student_perf = np.array(perf_good, perf_bad)\n",
    "\n",
    "def RunChiStat(array_1, array_2):\n",
    "    table = pd.crosstab(array_1, array_2)\n",
    "    chi2_cont, p_val, dof, expected = chi2_contingency(table.values)\n",
    "    return(p_val)\n",
    "    \n",
    "print('p-value for student performance and romantic relationship status:', RunChiStat(student_perf, student.romantic))\n",
    "print('p-value for student performance and parential cohabitation status:', RunChiStat(student_perf, student.Pstatus))"
   ]
  },
  {
   "cell_type": "markdown",
   "metadata": {},
   "source": [
    "We see that neither p-value for the chi statistic is less than 0.05, which means we have to accept our null hypothesis. This means that the relationship status of a student and the cohabitation status of their parents is not related to a student's performance in school. \n",
    "\n",
    "\n",
    "Now that we have a better sense of how all of these variables relate to each other, we can run a regression and see if we can derive a formula that will allow us to describe a student's performance. The three variables I will focus on are the mother's education level, time the student spends studying, and a student's alcohol intake during the week since these seem to be the most impactful variables. \n",
    "\n",
    "First, let's run a few calculations to determine if these are the variables I should use in my multiple regression."
   ]
  },
  {
   "cell_type": "code",
   "execution_count": 348,
   "metadata": {},
   "outputs": [
    {
     "name": "stdout",
     "output_type": "stream",
     "text": [
      "-0.28113864593456256 -0.10756207635920041\n"
     ]
    }
   ],
   "source": [
    "diff_grade = low_st.G3.mean() - other_st.G3.mean()\n",
    "diff_drink = low_st.Dalc.mean() - other_st.Dalc.mean()\n",
    "\n",
    "results = smf.ols('G3 ~ Dalc', data = student).fit()\n",
    "slope = results.params['Dalc']\n",
    "expected_diff = slope * diff_drink\n",
    "\n",
    "print(slope, expected_diff)"
   ]
  },
  {
   "cell_type": "markdown",
   "metadata": {},
   "source": [
    "We see that the expected difference is about half of the original slope, which indicates that the observed difference in a student's performance in school, given they don't study often, can partly be explained by a difference in their alcohol consumption."
   ]
  },
  {
   "cell_type": "code",
   "execution_count": 349,
   "metadata": {},
   "outputs": [
    {
     "name": "stdout",
     "output_type": "stream",
     "text": [
      "Impact of mother's education: 0.9087575195427711 -0.11415426969625943\n",
      "Impact of fathers's education: 0.6418602884521498 -0.07293387842510471\n"
     ]
    }
   ],
   "source": [
    "diff_grade = low_st.G3.mean() - other_st.G3.mean()\n",
    "diff_medu = low_st.Medu.mean() - other_st.Medu.mean()\n",
    "diff_fedu = low_st.Fedu.mean() - other_st.Fedu.mean()\n",
    "\n",
    "results_medu = smf.ols('G3 ~ Medu', data = student).fit()\n",
    "slope_medu = results_medu.params['Medu']\n",
    "expected_diff_medu = slope_medu * diff_medu\n",
    "\n",
    "results_fedu = smf.ols('G3 ~ Fedu', data = student).fit()\n",
    "slope_fedu = results_fedu.params['Fedu']\n",
    "expected_diff_fedu = slope_fedu * diff_fedu\n",
    "\n",
    "print(\"Impact of mother's education:\", slope_medu, expected_diff_medu)\n",
    "print(\"Impact of fathers's education:\", slope_fedu, expected_diff_fedu)"
   ]
  },
  {
   "cell_type": "markdown",
   "metadata": {},
   "source": [
    "Now, we can use multiple regression to further explore these relationships."
   ]
  },
  {
   "cell_type": "code",
   "execution_count": 350,
   "metadata": {},
   "outputs": [
    {
     "data": {
      "text/html": [
       "<table class=\"simpletable\">\n",
       "<caption>OLS Regression Results</caption>\n",
       "<tr>\n",
       "  <th>Dep. Variable:</th>           <td>G3</td>        <th>  R-squared:         </th> <td>   0.043</td>\n",
       "</tr>\n",
       "<tr>\n",
       "  <th>Model:</th>                   <td>OLS</td>       <th>  Adj. R-squared:    </th> <td>   0.041</td>\n",
       "</tr>\n",
       "<tr>\n",
       "  <th>Method:</th>             <td>Least Squares</td>  <th>  F-statistic:       </th> <td>   17.69</td>\n",
       "</tr>\n",
       "<tr>\n",
       "  <th>Date:</th>             <td>Sat, 03 Aug 2019</td> <th>  Prob (F-statistic):</th> <td>3.22e-05</td>\n",
       "</tr>\n",
       "<tr>\n",
       "  <th>Time:</th>                 <td>10:59:17</td>     <th>  Log-Likelihood:    </th> <td> -1152.5</td>\n",
       "</tr>\n",
       "<tr>\n",
       "  <th>No. Observations:</th>      <td>   395</td>      <th>  AIC:               </th> <td>   2309.</td>\n",
       "</tr>\n",
       "<tr>\n",
       "  <th>Df Residuals:</th>          <td>   393</td>      <th>  BIC:               </th> <td>   2317.</td>\n",
       "</tr>\n",
       "<tr>\n",
       "  <th>Df Model:</th>              <td>     1</td>      <th>                     </th>     <td> </td>   \n",
       "</tr>\n",
       "<tr>\n",
       "  <th>Covariance Type:</th>      <td>nonrobust</td>    <th>                     </th>     <td> </td>   \n",
       "</tr>\n",
       "</table>\n",
       "<table class=\"simpletable\">\n",
       "<tr>\n",
       "          <td></td>             <th>coef</th>     <th>std err</th>      <th>t</th>      <th>P>|t|</th>  <th>[0.025</th>    <th>0.975]</th>  \n",
       "</tr>\n",
       "<tr>\n",
       "  <th>Intercept</th>         <td>    9.7462</td> <td>    0.276</td> <td>   35.289</td> <td> 0.000</td> <td>    9.203</td> <td>   10.289</td>\n",
       "</tr>\n",
       "<tr>\n",
       "  <th>mom_smart[T.True]</th> <td>    2.0171</td> <td>    0.480</td> <td>    4.206</td> <td> 0.000</td> <td>    1.074</td> <td>    2.960</td>\n",
       "</tr>\n",
       "</table>\n",
       "<table class=\"simpletable\">\n",
       "<tr>\n",
       "  <th>Omnibus:</th>       <td>32.933</td> <th>  Durbin-Watson:     </th> <td>   1.987</td>\n",
       "</tr>\n",
       "<tr>\n",
       "  <th>Prob(Omnibus):</th> <td> 0.000</td> <th>  Jarque-Bera (JB):  </th> <td>  38.730</td>\n",
       "</tr>\n",
       "<tr>\n",
       "  <th>Skew:</th>          <td>-0.743</td> <th>  Prob(JB):          </th> <td>3.89e-09</td>\n",
       "</tr>\n",
       "<tr>\n",
       "  <th>Kurtosis:</th>      <td> 3.383</td> <th>  Cond. No.          </th> <td>    2.41</td>\n",
       "</tr>\n",
       "</table><br/><br/>Warnings:<br/>[1] Standard Errors assume that the covariance matrix of the errors is correctly specified."
      ],
      "text/plain": [
       "<class 'statsmodels.iolib.summary.Summary'>\n",
       "\"\"\"\n",
       "                            OLS Regression Results                            \n",
       "==============================================================================\n",
       "Dep. Variable:                     G3   R-squared:                       0.043\n",
       "Model:                            OLS   Adj. R-squared:                  0.041\n",
       "Method:                 Least Squares   F-statistic:                     17.69\n",
       "Date:                Sat, 03 Aug 2019   Prob (F-statistic):           3.22e-05\n",
       "Time:                        10:59:17   Log-Likelihood:                -1152.5\n",
       "No. Observations:                 395   AIC:                             2309.\n",
       "Df Residuals:                     393   BIC:                             2317.\n",
       "Df Model:                           1                                         \n",
       "Covariance Type:            nonrobust                                         \n",
       "=====================================================================================\n",
       "                        coef    std err          t      P>|t|      [0.025      0.975]\n",
       "-------------------------------------------------------------------------------------\n",
       "Intercept             9.7462      0.276     35.289      0.000       9.203      10.289\n",
       "mom_smart[T.True]     2.0171      0.480      4.206      0.000       1.074       2.960\n",
       "==============================================================================\n",
       "Omnibus:                       32.933   Durbin-Watson:                   1.987\n",
       "Prob(Omnibus):                  0.000   Jarque-Bera (JB):               38.730\n",
       "Skew:                          -0.743   Prob(JB):                     3.89e-09\n",
       "Kurtosis:                       3.383   Cond. No.                         2.41\n",
       "==============================================================================\n",
       "\n",
       "Warnings:\n",
       "[1] Standard Errors assume that the covariance matrix of the errors is correctly specified.\n",
       "\"\"\""
      ]
     },
     "execution_count": 350,
     "metadata": {},
     "output_type": "execute_result"
    }
   ],
   "source": [
    "student['mom_smart'] = student.Medu == 4\n",
    "formula_medu_smart = 'G3 ~ mom_smart'\n",
    "results_medu = smf.ols(formula_medu_smart, data = student).fit()\n",
    "results_medu.summary()"
   ]
  },
  {
   "cell_type": "code",
   "execution_count": 355,
   "metadata": {},
   "outputs": [
    {
     "data": {
      "text/html": [
       "<table class=\"simpletable\">\n",
       "<caption>OLS Regression Results</caption>\n",
       "<tr>\n",
       "  <th>Dep. Variable:</th>           <td>G3</td>        <th>  R-squared:         </th> <td>   0.011</td>\n",
       "</tr>\n",
       "<tr>\n",
       "  <th>Model:</th>                   <td>OLS</td>       <th>  Adj. R-squared:    </th> <td>   0.009</td>\n",
       "</tr>\n",
       "<tr>\n",
       "  <th>Method:</th>             <td>Least Squares</td>  <th>  F-statistic:       </th> <td>   4.416</td>\n",
       "</tr>\n",
       "<tr>\n",
       "  <th>Date:</th>             <td>Sat, 03 Aug 2019</td> <th>  Prob (F-statistic):</th>  <td>0.0362</td> \n",
       "</tr>\n",
       "<tr>\n",
       "  <th>Time:</th>                 <td>11:06:27</td>     <th>  Log-Likelihood:    </th> <td> -1159.0</td>\n",
       "</tr>\n",
       "<tr>\n",
       "  <th>No. Observations:</th>      <td>   395</td>      <th>  AIC:               </th> <td>   2322.</td>\n",
       "</tr>\n",
       "<tr>\n",
       "  <th>Df Residuals:</th>          <td>   393</td>      <th>  BIC:               </th> <td>   2330.</td>\n",
       "</tr>\n",
       "<tr>\n",
       "  <th>Df Model:</th>              <td>     1</td>      <th>                     </th>     <td> </td>   \n",
       "</tr>\n",
       "<tr>\n",
       "  <th>Covariance Type:</th>      <td>nonrobust</td>    <th>                     </th>     <td> </td>   \n",
       "</tr>\n",
       "</table>\n",
       "<table class=\"simpletable\">\n",
       "<tr>\n",
       "          <td></td>             <th>coef</th>     <th>std err</th>      <th>t</th>      <th>P>|t|</th>  <th>[0.025</th>    <th>0.975]</th>  \n",
       "</tr>\n",
       "<tr>\n",
       "  <th>Intercept</th>         <td>    9.6807</td> <td>    0.418</td> <td>   23.150</td> <td> 0.000</td> <td>    8.859</td> <td>   10.503</td>\n",
       "</tr>\n",
       "<tr>\n",
       "  <th>low_drink[T.True]</th> <td>    1.0512</td> <td>    0.500</td> <td>    2.101</td> <td> 0.036</td> <td>    0.068</td> <td>    2.035</td>\n",
       "</tr>\n",
       "</table>\n",
       "<table class=\"simpletable\">\n",
       "<tr>\n",
       "  <th>Omnibus:</th>       <td>35.048</td> <th>  Durbin-Watson:     </th> <td>   1.982</td>\n",
       "</tr>\n",
       "<tr>\n",
       "  <th>Prob(Omnibus):</th> <td> 0.000</td> <th>  Jarque-Bera (JB):  </th> <td>  41.767</td>\n",
       "</tr>\n",
       "<tr>\n",
       "  <th>Skew:</th>          <td>-0.767</td> <th>  Prob(JB):          </th> <td>8.52e-10</td>\n",
       "</tr>\n",
       "<tr>\n",
       "  <th>Kurtosis:</th>      <td> 3.432</td> <th>  Cond. No.          </th> <td>    3.41</td>\n",
       "</tr>\n",
       "</table><br/><br/>Warnings:<br/>[1] Standard Errors assume that the covariance matrix of the errors is correctly specified."
      ],
      "text/plain": [
       "<class 'statsmodels.iolib.summary.Summary'>\n",
       "\"\"\"\n",
       "                            OLS Regression Results                            \n",
       "==============================================================================\n",
       "Dep. Variable:                     G3   R-squared:                       0.011\n",
       "Model:                            OLS   Adj. R-squared:                  0.009\n",
       "Method:                 Least Squares   F-statistic:                     4.416\n",
       "Date:                Sat, 03 Aug 2019   Prob (F-statistic):             0.0362\n",
       "Time:                        11:06:27   Log-Likelihood:                -1159.0\n",
       "No. Observations:                 395   AIC:                             2322.\n",
       "Df Residuals:                     393   BIC:                             2330.\n",
       "Df Model:                           1                                         \n",
       "Covariance Type:            nonrobust                                         \n",
       "=====================================================================================\n",
       "                        coef    std err          t      P>|t|      [0.025      0.975]\n",
       "-------------------------------------------------------------------------------------\n",
       "Intercept             9.6807      0.418     23.150      0.000       8.859      10.503\n",
       "low_drink[T.True]     1.0512      0.500      2.101      0.036       0.068       2.035\n",
       "==============================================================================\n",
       "Omnibus:                       35.048   Durbin-Watson:                   1.982\n",
       "Prob(Omnibus):                  0.000   Jarque-Bera (JB):               41.767\n",
       "Skew:                          -0.767   Prob(JB):                     8.52e-10\n",
       "Kurtosis:                       3.432   Cond. No.                         3.41\n",
       "==============================================================================\n",
       "\n",
       "Warnings:\n",
       "[1] Standard Errors assume that the covariance matrix of the errors is correctly specified.\n",
       "\"\"\""
      ]
     },
     "execution_count": 355,
     "metadata": {},
     "output_type": "execute_result"
    }
   ],
   "source": [
    "student['low_drink'] = student.Dalc == 1\n",
    "formula_alc = 'G3 ~ low_drink'\n",
    "results_alc = smf.ols(formula_alc, data = student).fit()\n",
    "results_alc.summary()"
   ]
  },
  {
   "cell_type": "markdown",
   "metadata": {},
   "source": [
    "What we're paying attention to initially here is the mom_smart and low_drink variable, which is a Boolean, set to True. When the mother has a higher level of education, the mom_smart[T.True] variable has a coefficient of 2.017, which indicates that it accounts for a difference of 2.017 points in their child's school performance. \n",
    "\n",
    "the low_drink[T.True] variable on the other hand has a coefficient of 1.051, incidating that a student's low alcohol intake during the week only accounts for a 1.051 point difference in their school performance. "
   ]
  },
  {
   "cell_type": "code",
   "execution_count": 356,
   "metadata": {},
   "outputs": [
    {
     "data": {
      "text/html": [
       "<table class=\"simpletable\">\n",
       "<caption>OLS Regression Results</caption>\n",
       "<tr>\n",
       "  <th>Dep. Variable:</th>           <td>G3</td>        <th>  R-squared:         </th> <td>   0.054</td>\n",
       "</tr>\n",
       "<tr>\n",
       "  <th>Model:</th>                   <td>OLS</td>       <th>  Adj. R-squared:    </th> <td>   0.050</td>\n",
       "</tr>\n",
       "<tr>\n",
       "  <th>Method:</th>             <td>Least Squares</td>  <th>  F-statistic:       </th> <td>   11.29</td>\n",
       "</tr>\n",
       "<tr>\n",
       "  <th>Date:</th>             <td>Sat, 03 Aug 2019</td> <th>  Prob (F-statistic):</th> <td>1.71e-05</td>\n",
       "</tr>\n",
       "<tr>\n",
       "  <th>Time:</th>                 <td>11:06:37</td>     <th>  Log-Likelihood:    </th> <td> -1150.1</td>\n",
       "</tr>\n",
       "<tr>\n",
       "  <th>No. Observations:</th>      <td>   395</td>      <th>  AIC:               </th> <td>   2306.</td>\n",
       "</tr>\n",
       "<tr>\n",
       "  <th>Df Residuals:</th>          <td>   392</td>      <th>  BIC:               </th> <td>   2318.</td>\n",
       "</tr>\n",
       "<tr>\n",
       "  <th>Df Model:</th>              <td>     2</td>      <th>                     </th>     <td> </td>   \n",
       "</tr>\n",
       "<tr>\n",
       "  <th>Covariance Type:</th>      <td>nonrobust</td>    <th>                     </th>     <td> </td>   \n",
       "</tr>\n",
       "</table>\n",
       "<table class=\"simpletable\">\n",
       "<tr>\n",
       "          <td></td>             <th>coef</th>     <th>std err</th>      <th>t</th>      <th>P>|t|</th>  <th>[0.025</th>    <th>0.975]</th>  \n",
       "</tr>\n",
       "<tr>\n",
       "  <th>Intercept</th>         <td>    9.0005</td> <td>    0.440</td> <td>   20.468</td> <td> 0.000</td> <td>    8.136</td> <td>    9.865</td>\n",
       "</tr>\n",
       "<tr>\n",
       "  <th>mom_smart[T.True]</th> <td>    2.0236</td> <td>    0.477</td> <td>    4.240</td> <td> 0.000</td> <td>    1.085</td> <td>    2.962</td>\n",
       "</tr>\n",
       "<tr>\n",
       "  <th>low_drink[T.True]</th> <td>    1.0642</td> <td>    0.490</td> <td>    2.173</td> <td> 0.030</td> <td>    0.101</td> <td>    2.027</td>\n",
       "</tr>\n",
       "</table>\n",
       "<table class=\"simpletable\">\n",
       "<tr>\n",
       "  <th>Omnibus:</th>       <td>34.873</td> <th>  Durbin-Watson:     </th> <td>   1.981</td>\n",
       "</tr>\n",
       "<tr>\n",
       "  <th>Prob(Omnibus):</th> <td> 0.000</td> <th>  Jarque-Bera (JB):  </th> <td>  41.513</td>\n",
       "</tr>\n",
       "<tr>\n",
       "  <th>Skew:</th>          <td>-0.765</td> <th>  Prob(JB):          </th> <td>9.67e-10</td>\n",
       "</tr>\n",
       "<tr>\n",
       "  <th>Kurtosis:</th>      <td> 3.423</td> <th>  Cond. No.          </th> <td>    3.66</td>\n",
       "</tr>\n",
       "</table><br/><br/>Warnings:<br/>[1] Standard Errors assume that the covariance matrix of the errors is correctly specified."
      ],
      "text/plain": [
       "<class 'statsmodels.iolib.summary.Summary'>\n",
       "\"\"\"\n",
       "                            OLS Regression Results                            \n",
       "==============================================================================\n",
       "Dep. Variable:                     G3   R-squared:                       0.054\n",
       "Model:                            OLS   Adj. R-squared:                  0.050\n",
       "Method:                 Least Squares   F-statistic:                     11.29\n",
       "Date:                Sat, 03 Aug 2019   Prob (F-statistic):           1.71e-05\n",
       "Time:                        11:06:37   Log-Likelihood:                -1150.1\n",
       "No. Observations:                 395   AIC:                             2306.\n",
       "Df Residuals:                     392   BIC:                             2318.\n",
       "Df Model:                           2                                         \n",
       "Covariance Type:            nonrobust                                         \n",
       "=====================================================================================\n",
       "                        coef    std err          t      P>|t|      [0.025      0.975]\n",
       "-------------------------------------------------------------------------------------\n",
       "Intercept             9.0005      0.440     20.468      0.000       8.136       9.865\n",
       "mom_smart[T.True]     2.0236      0.477      4.240      0.000       1.085       2.962\n",
       "low_drink[T.True]     1.0642      0.490      2.173      0.030       0.101       2.027\n",
       "==============================================================================\n",
       "Omnibus:                       34.873   Durbin-Watson:                   1.981\n",
       "Prob(Omnibus):                  0.000   Jarque-Bera (JB):               41.513\n",
       "Skew:                          -0.765   Prob(JB):                     9.67e-10\n",
       "Kurtosis:                       3.423   Cond. No.                         3.66\n",
       "==============================================================================\n",
       "\n",
       "Warnings:\n",
       "[1] Standard Errors assume that the covariance matrix of the errors is correctly specified.\n",
       "\"\"\""
      ]
     },
     "execution_count": 356,
     "metadata": {},
     "output_type": "execute_result"
    }
   ],
   "source": [
    "formula_medu_alc = 'G3 ~ mom_smart + low_drink'\n",
    "results_medu_alc = smf.ols(formula_medu_alc, data = student).fit()\n",
    "results_medu_alc.summary()"
   ]
  },
  {
   "cell_type": "markdown",
   "metadata": {},
   "source": [
    "When we create a model that incorporates the two variables together, we see an increase in both their coefficients, indicating that the two have a somewhat additive impact on a student's school performance. Additionally, if we compare the R^2 values, we see they were initially 0.043 for mother's education and 0.011 for low alcohol intake. The R^2 value for the combined model increased to 0.054, which also supports that the combined model is a better predictor of a student's performance. But keep in mind, it seems a student's alcohol intake doesn't have as big of an impact. \n",
    "\n",
    "In conclusion, despite there being several factors impacting a student's performance in school, the level of education their mother achieved has the largest impact of the following variables we tested:\n",
    " - Mother's education\n",
    " - Father's education\n",
    " - Parent's cohabitation status\n",
    " - Amount of time spent studying\n",
    " - Student's relationship status\n",
    " - Student's alcohol intake on weekdays\n",
    " \n",
    " Not what I expected, but interesting to know!"
   ]
  }
 ],
 "metadata": {
  "kernelspec": {
   "display_name": "Python 3",
   "language": "python",
   "name": "python3"
  },
  "language_info": {
   "codemirror_mode": {
    "name": "ipython",
    "version": 3
   },
   "file_extension": ".py",
   "mimetype": "text/x-python",
   "name": "python",
   "nbconvert_exporter": "python",
   "pygments_lexer": "ipython3",
   "version": "3.7.3"
  }
 },
 "nbformat": 4,
 "nbformat_minor": 2
}
